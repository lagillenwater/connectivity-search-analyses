{
 "cells": [
  {
   "cell_type": "markdown",
   "metadata": {},
   "source": [
    "# Implementation of diffusion hetmech"
   ]
  },
  {
   "cell_type": "code",
   "execution_count": null,
   "metadata": {},
   "outputs": [],
   "source": [
    "import pandas\n",
    "from neo4j import GraphDatabase\n",
    "import hetnetpy as hetio\n",
    "import hetmatpy as hm\n",
    "\n",
    "# from hetmech.diffusion import diffuse"
   ]
  },
  {
   "cell_type": "code",
   "execution_count": 6,
   "metadata": {},
   "outputs": [],
   "source": [
    "url = 'https://github.com/dhimmel/hetionet/raw/76550e6c93fbe92124edc71725e8c7dd4ca8b1f5/hetnet/json/hetionet-v1.0.json.bz2'\n",
    "graph = hetio.readwrite.read_graph(url)\n",
    "metagraph = graph.metagraph"
   ]
  },
  {
   "cell_type": "code",
   "execution_count": 7,
   "metadata": {},
   "outputs": [
    {
     "data": {
      "text/plain": [
       "(11, 24)"
      ]
     },
     "execution_count": 7,
     "metadata": {},
     "output_type": "execute_result"
    }
   ],
   "source": [
    "# MetaGraph node/edge count\n",
    "metagraph.n_nodes, metagraph.n_edges"
   ]
  },
  {
   "cell_type": "code",
   "execution_count": 8,
   "metadata": {},
   "outputs": [
    {
     "data": {
      "text/plain": [
       "(47031, 2250197)"
      ]
     },
     "execution_count": 8,
     "metadata": {},
     "output_type": "execute_result"
    }
   ],
   "source": [
    "# Graph node/edge count\n",
    "graph.n_nodes, graph.n_edges"
   ]
  },
  {
   "cell_type": "code",
   "execution_count": 9,
   "metadata": {},
   "outputs": [
    {
     "data": {
      "text/html": [
       "<div>\n",
       "<style scoped>\n",
       "    .dataframe tbody tr th:only-of-type {\n",
       "        vertical-align: middle;\n",
       "    }\n",
       "\n",
       "    .dataframe tbody tr th {\n",
       "        vertical-align: top;\n",
       "    }\n",
       "\n",
       "    .dataframe thead th {\n",
       "        text-align: right;\n",
       "    }\n",
       "</style>\n",
       "<table border=\"1\" class=\"dataframe\">\n",
       "  <thead>\n",
       "    <tr style=\"text-align: right;\">\n",
       "      <th></th>\n",
       "      <th>gene_symbol</th>\n",
       "      <th>gene_name</th>\n",
       "      <th>entrez_gene_id</th>\n",
       "      <th>sources</th>\n",
       "    </tr>\n",
       "  </thead>\n",
       "  <tbody>\n",
       "    <tr>\n",
       "      <th>0</th>\n",
       "      <td>ABAT</td>\n",
       "      <td>4-aminobutyrate aminotransferase</td>\n",
       "      <td>18</td>\n",
       "      <td>[DisGeNET]</td>\n",
       "    </tr>\n",
       "    <tr>\n",
       "      <th>1</th>\n",
       "      <td>ABCB1</td>\n",
       "      <td>ATP-binding cassette, sub-family B (MDR/TAP), ...</td>\n",
       "      <td>5243</td>\n",
       "      <td>[DISEASES, DOAF, DisGeNET]</td>\n",
       "    </tr>\n",
       "    <tr>\n",
       "      <th>2</th>\n",
       "      <td>ABCC2</td>\n",
       "      <td>ATP-binding cassette, sub-family C (CFTR/MRP),...</td>\n",
       "      <td>1244</td>\n",
       "      <td>[DisGeNET]</td>\n",
       "    </tr>\n",
       "    <tr>\n",
       "      <th>3</th>\n",
       "      <td>ABCG2</td>\n",
       "      <td>ATP-binding cassette, sub-family G (WHITE), me...</td>\n",
       "      <td>9429</td>\n",
       "      <td>[DisGeNET]</td>\n",
       "    </tr>\n",
       "    <tr>\n",
       "      <th>4</th>\n",
       "      <td>ACKR4</td>\n",
       "      <td>atypical chemokine receptor 4</td>\n",
       "      <td>51554</td>\n",
       "      <td>[DISEASES]</td>\n",
       "    </tr>\n",
       "  </tbody>\n",
       "</table>\n",
       "</div>"
      ],
      "text/plain": [
       "  gene_symbol                                          gene_name  \\\n",
       "0        ABAT                   4-aminobutyrate aminotransferase   \n",
       "1       ABCB1  ATP-binding cassette, sub-family B (MDR/TAP), ...   \n",
       "2       ABCC2  ATP-binding cassette, sub-family C (CFTR/MRP),...   \n",
       "3       ABCG2  ATP-binding cassette, sub-family G (WHITE), me...   \n",
       "4       ACKR4                      atypical chemokine receptor 4   \n",
       "\n",
       "   entrez_gene_id                     sources  \n",
       "0              18                  [DisGeNET]  \n",
       "1            5243  [DISEASES, DOAF, DisGeNET]  \n",
       "2            1244                  [DisGeNET]  \n",
       "3            9429                  [DisGeNET]  \n",
       "4           51554                  [DISEASES]  "
      ]
     },
     "execution_count": 9,
     "metadata": {},
     "output_type": "execute_result"
    }
   ],
   "source": [
    "# Uses the official neo4j-python-driver. See https://github.com/neo4j/neo4j-python-driver\n",
    "\n",
    "query = '''\n",
    "MATCH (disease:Disease)-[assoc:ASSOCIATES_DaG]-(gene:Gene)\n",
    "WHERE disease.name = 'epilepsy syndrome'\n",
    "RETURN\n",
    " gene.name AS gene_symbol,\n",
    " gene.description AS gene_name,\n",
    " gene.identifier AS entrez_gene_id,\n",
    " assoc.sources AS sources\n",
    "ORDER BY gene_symbol\n",
    "'''\n",
    "\n",
    "driver = GraphDatabase.driver(\"bolt://neo4j.het.io\")\n",
    "with driver.session() as session:\n",
    "    result = session.run(query)\n",
    "    gene_df = pandas.DataFrame((x.values() for x in result), columns=result.keys())\n",
    "\n",
    "gene_df.head()"
   ]
  },
  {
   "cell_type": "code",
   "execution_count": 10,
   "metadata": {},
   "outputs": [
    {
     "data": {
      "text/plain": [
       "399"
      ]
     },
     "execution_count": 10,
     "metadata": {},
     "output_type": "execute_result"
    }
   ],
   "source": [
    "epilepsy_genes = list()\n",
    "for entrez_gene_id in gene_df.entrez_gene_id:\n",
    "    node_id = 'Gene', entrez_gene_id\n",
    "    node = graph.node_dict.get(node_id)\n",
    "    if node:\n",
    "        epilepsy_genes.append(node)\n",
    "len(epilepsy_genes)"
   ]
  },
  {
   "cell_type": "code",
   "execution_count": 17,
   "metadata": {},
   "outputs": [
    {
     "ename": "AttributeError",
     "evalue": "module 'hetmatpy' has no attribute 'diffusion'",
     "output_type": "error",
     "traceback": [
      "\u001b[0;31m---------------------------------------------------------------------------\u001b[0m",
      "\u001b[0;31mAttributeError\u001b[0m                            Traceback (most recent call last)",
      "Cell \u001b[0;32mIn[17], line 3\u001b[0m\n\u001b[1;32m      1\u001b[0m metapath \u001b[38;5;241m=\u001b[39m metagraph\u001b[38;5;241m.\u001b[39mmetapath_from_abbrev(\u001b[38;5;124m'\u001b[39m\u001b[38;5;124mGiGpBP\u001b[39m\u001b[38;5;124m'\u001b[39m)\n\u001b[1;32m      2\u001b[0m source_node_weights \u001b[38;5;241m=\u001b[39m {gene: \u001b[38;5;241m1\u001b[39m \u001b[38;5;28;01mfor\u001b[39;00m gene \u001b[38;5;129;01min\u001b[39;00m epilepsy_genes}\n\u001b[0;32m----> 3\u001b[0m pathway_scores \u001b[38;5;241m=\u001b[39m \u001b[43mhetmat\u001b[49m\u001b[38;5;241;43m.\u001b[39;49m\u001b[43mdiffusion\u001b[49m\u001b[38;5;241m.\u001b[39mdiffuse(graph, metapath, source_node_weights, column_damping\u001b[38;5;241m=\u001b[39m\u001b[38;5;241m1\u001b[39m, row_damping\u001b[38;5;241m=\u001b[39m\u001b[38;5;241m1\u001b[39m)\n\u001b[1;32m      4\u001b[0m target_df \u001b[38;5;241m=\u001b[39m pandas\u001b[38;5;241m.\u001b[39mDataFrame(\u001b[38;5;28mlist\u001b[39m(pathway_scores\u001b[38;5;241m.\u001b[39mitems()), columns\u001b[38;5;241m=\u001b[39m[\u001b[38;5;124m'\u001b[39m\u001b[38;5;124mtarget_node\u001b[39m\u001b[38;5;124m'\u001b[39m, \u001b[38;5;124m'\u001b[39m\u001b[38;5;124mscore\u001b[39m\u001b[38;5;124m'\u001b[39m])\n\u001b[1;32m      5\u001b[0m target_df[\u001b[38;5;124m'\u001b[39m\u001b[38;5;124mtarget_name\u001b[39m\u001b[38;5;124m'\u001b[39m] \u001b[38;5;241m=\u001b[39m target_df\u001b[38;5;241m.\u001b[39mtarget_node\u001b[38;5;241m.\u001b[39mmap(\u001b[38;5;28;01mlambda\u001b[39;00m x: graph\u001b[38;5;241m.\u001b[39mnode_dict[(\u001b[38;5;124m'\u001b[39m\u001b[38;5;124mBiological Process\u001b[39m\u001b[38;5;124m'\u001b[39m, x)]\u001b[38;5;241m.\u001b[39mname)\n",
      "\u001b[0;31mAttributeError\u001b[0m: module 'hetmatpy' has no attribute 'diffusion'"
     ]
    }
   ],
   "source": [
    "metapath = metagraph.metapath_from_abbrev('GiGpBP')\n",
    "source_node_weights = {gene: 1 for gene in epilepsy_genes}\n",
    "pathway_scores = hetmat.diffusion.diffuse(graph, metapath, source_node_weights, column_damping=1, row_damping=1)\n",
    "target_df = pandas.DataFrame(list(pathway_scores.items()), columns=['target_node', 'score'])\n",
    "target_df['target_name'] = target_df.target_node.map(lambda x: graph.node_dict[('Biological Process', x)].name)\n",
    "target_df = target_df.sort_values('score', ascending=False)"
   ]
  },
  {
   "cell_type": "code",
   "execution_count": 8,
   "metadata": {},
   "outputs": [
    {
     "data": {
      "text/plain": [
       "11381"
      ]
     },
     "execution_count": 8,
     "metadata": {},
     "output_type": "execute_result"
    }
   ],
   "source": [
    "len(target_df)"
   ]
  },
  {
   "cell_type": "code",
   "execution_count": 9,
   "metadata": {},
   "outputs": [
    {
     "data": {
      "text/plain": [
       "353.7693384197814"
      ]
     },
     "execution_count": 9,
     "metadata": {},
     "output_type": "execute_result"
    }
   ],
   "source": [
    "sum(target_df.score)"
   ]
  },
  {
   "cell_type": "code",
   "execution_count": 10,
   "metadata": {},
   "outputs": [
    {
     "data": {
      "text/plain": [
       "GiGpBP"
      ]
     },
     "execution_count": 10,
     "metadata": {},
     "output_type": "execute_result"
    }
   ],
   "source": [
    "metapath"
   ]
  },
  {
   "cell_type": "code",
   "execution_count": 11,
   "metadata": {
    "scrolled": false
   },
   "outputs": [
    {
     "data": {
      "text/html": [
       "<div>\n",
       "<style scoped>\n",
       "    .dataframe tbody tr th:only-of-type {\n",
       "        vertical-align: middle;\n",
       "    }\n",
       "\n",
       "    .dataframe tbody tr th {\n",
       "        vertical-align: top;\n",
       "    }\n",
       "\n",
       "    .dataframe thead th {\n",
       "        text-align: right;\n",
       "    }\n",
       "</style>\n",
       "<table border=\"1\" class=\"dataframe\">\n",
       "  <thead>\n",
       "    <tr style=\"text-align: right;\">\n",
       "      <th></th>\n",
       "      <th>target_node</th>\n",
       "      <th>score</th>\n",
       "      <th>target_name</th>\n",
       "    </tr>\n",
       "  </thead>\n",
       "  <tbody>\n",
       "    <tr>\n",
       "      <th>4751</th>\n",
       "      <td>GO:0035235</td>\n",
       "      <td>1.091022</td>\n",
       "      <td>ionotropic glutamate receptor signaling pathway</td>\n",
       "    </tr>\n",
       "    <tr>\n",
       "      <th>2530</th>\n",
       "      <td>GO:0010992</td>\n",
       "      <td>1.038370</td>\n",
       "      <td>ubiquitin homeostasis</td>\n",
       "    </tr>\n",
       "    <tr>\n",
       "      <th>1783</th>\n",
       "      <td>GO:0007586</td>\n",
       "      <td>0.971243</td>\n",
       "      <td>digestion</td>\n",
       "    </tr>\n",
       "    <tr>\n",
       "      <th>7663</th>\n",
       "      <td>GO:0060081</td>\n",
       "      <td>0.948960</td>\n",
       "      <td>membrane hyperpolarization</td>\n",
       "    </tr>\n",
       "    <tr>\n",
       "      <th>1485</th>\n",
       "      <td>GO:0006895</td>\n",
       "      <td>0.907327</td>\n",
       "      <td>Golgi to endosome transport</td>\n",
       "    </tr>\n",
       "  </tbody>\n",
       "</table>\n",
       "</div>"
      ],
      "text/plain": [
       "     target_node     score                                      target_name\n",
       "4751  GO:0035235  1.091022  ionotropic glutamate receptor signaling pathway\n",
       "2530  GO:0010992  1.038370                            ubiquitin homeostasis\n",
       "1783  GO:0007586  0.971243                                        digestion\n",
       "7663  GO:0060081  0.948960                       membrane hyperpolarization\n",
       "1485  GO:0006895  0.907327                      Golgi to endosome transport"
      ]
     },
     "execution_count": 11,
     "metadata": {},
     "output_type": "execute_result"
    }
   ],
   "source": [
    "target_df.head()"
   ]
  },
  {
   "cell_type": "markdown",
   "metadata": {},
   "source": [
    "# Diagnosing ubiquitin homeostasis\n",
    "\n",
    "[ubiquitin homeostasis](http://amigo.geneontology.org/amigo/term/GO:0010992) contains 3 genes: [UBB, UBC, IDE]\n",
    "\n",
    "```cypher\n",
    "MATCH (bp:BiologicalProcess)-[rel:PARTICIPATES_GpBP]-(gene)-[INTERACTS_GiG]-(gene_target)\n",
    "WHERE bp.name ='ubiquitin homeostasis'\n",
    "RETURN\n",
    "  gene.name AS ubiquitin_homeostasis_gene,\n",
    "  count(gene_target) AS n_interacting_genes\n",
    "```\n",
    "\n",
    "Returns the following table:\n",
    "\n",
    "| ubiquitin_homeostasis_gene | n_interacting_genes |\n",
    "|----------------------------|---------------------|\n",
    "| IDE | 243 |\n",
    "| UBC | 9371 |\n",
    "| UBB | 1040 |\n"
   ]
  }
 ],
 "metadata": {
  "kernelspec": {
   "display_name": "hetmech",
   "language": "python",
   "name": "python3"
  },
  "language_info": {
   "codemirror_mode": {
    "name": "ipython",
    "version": 3
   },
   "file_extension": ".py",
   "mimetype": "text/x-python",
   "name": "python",
   "nbconvert_exporter": "python",
   "pygments_lexer": "ipython3",
   "version": "3.8.6"
  }
 },
 "nbformat": 4,
 "nbformat_minor": 2
}
