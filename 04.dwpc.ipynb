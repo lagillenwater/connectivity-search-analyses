{
 "cells": [
  {
   "cell_type": "markdown",
   "metadata": {},
   "source": [
    "# Proof of concept DWWC matrix computation"
   ]
  },
  {
   "cell_type": "code",
   "execution_count": 2,
   "metadata": {},
   "outputs": [],
   "source": [
    "import pandas\n",
    "from neo4j import GraphDatabase\n",
    "import hetnetpy.readwrite\n",
    "import hetnetpy.neo4j\n",
    "import hetnetpy.pathtools\n",
    "\n",
    "from hetmatpy.degree_weight import dwwc"
   ]
  },
  {
   "cell_type": "code",
   "execution_count": 4,
   "metadata": {},
   "outputs": [],
   "source": [
    "url = 'https://github.com/dhimmel/hetionet/raw/76550e6c93fbe92124edc71725e8c7dd4ca8b1f5/hetnet/json/hetionet-v1.0.json.bz2'\n",
    "graph = hetnetpy.readwrite.read_graph(url)\n",
    "metagraph = graph.metagraph"
   ]
  },
  {
   "cell_type": "code",
   "execution_count": null,
   "metadata": {},
   "outputs": [
    {
     "data": {
      "text/plain": [
       "'Compound–binds–Gene–participates–Pathway–participates–Gene–associates–Disease'"
      ]
     },
     "execution_count": 5,
     "metadata": {},
     "output_type": "execute_result"
    }
   ],
   "source": [
    "compound = 'DB01156'  # Bupropion\n",
    "disease = 'DOID:0050742'  # nicotine dependences\n",
    "\n",
    "damping_exponent = 0.4\n",
    "\n",
    "# CbGpPWpGaD contains duplicate metanodes, so DWPC is not equivalent to DWPC (DWWC is not equivalent to DWPC?)\n",
    "metapath = metagraph.metapath_from_abbrev('CbGpPWpGaD')\n",
    "metapath.get_unicode_str()"
   ]
  },
  {
   "cell_type": "markdown",
   "metadata": {},
   "source": [
    "### Cypher DWPC implementation"
   ]
  },
  {
   "cell_type": "code",
   "execution_count": 7,
   "metadata": {},
   "outputs": [
    {
     "name": "stdout",
     "output_type": "stream",
     "text": [
      "MATCH path = (n0:Compound)-[:BINDS_CbG]-(n1)-[:PARTICIPATES_GpPW]-(n2)-[:PARTICIPATES_GpPW]-(n3)-[:ASSOCIATES_DaG]-(n4:Disease)\n",
      "USING JOIN ON n2\n",
      "WHERE n0.identifier = { source }\n",
      "AND n4.identifier = { target }\n",
      "AND n1 <> n3\n",
      "WITH\n",
      "[\n",
      "size((n0)-[:BINDS_CbG]-()),\n",
      "size(()-[:BINDS_CbG]-(n1)),\n",
      "size((n1)-[:PARTICIPATES_GpPW]-()),\n",
      "size(()-[:PARTICIPATES_GpPW]-(n2)),\n",
      "size((n2)-[:PARTICIPATES_GpPW]-()),\n",
      "size(()-[:PARTICIPATES_GpPW]-(n3)),\n",
      "size((n3)-[:ASSOCIATES_DaG]-()),\n",
      "size(()-[:ASSOCIATES_DaG]-(n4))\n",
      "] AS degrees, path\n",
      "RETURN\n",
      "count(path) AS PC,\n",
      "sum(reduce(pdp = 1.0, d in degrees| pdp * d ^ -{ w })) AS DWPC\n",
      "CPU times: user 1.61 ms, sys: 1.68 ms, total: 3.29 ms\n",
      "Wall time: 99.9 ms\n"
     ]
    },
    {
     "data": {
      "text/plain": [
       "<Record PC=142 DWPC=0.03287590886921623>"
      ]
     },
     "execution_count": 7,
     "metadata": {},
     "output_type": "execute_result"
    }
   ],
   "source": [
    "%%time\n",
    "query = hetnetpy.neo4j.construct_dwpc_query(metapath, property='identifier', unique_nodes=True)\n",
    "print(query)\n",
    "\n",
    "driver = GraphDatabase.driver(\"bolt://neo4j.het.io\")\n",
    "params = {\n",
    "    'source': compound,\n",
    "    'target': disease,\n",
    "    'w': damping_exponent,\n",
    "}\n",
    "with driver.session() as session:\n",
    "    result = session.run(query, params)\n",
    "    result = result.single()\n",
    "result"
   ]
  },
  {
   "cell_type": "code",
   "execution_count": 8,
   "metadata": {},
   "outputs": [
    {
     "name": "stdout",
     "output_type": "stream",
     "text": [
      "142\n",
      "0.03287590886921623\n"
     ]
    }
   ],
   "source": [
    "cypher_pc = result['PC']\n",
    "print(cypher_pc)\n",
    "cypher_dwpc = result['DWPC']\n",
    "print(cypher_dwpc)"
   ]
  },
  {
   "cell_type": "markdown",
   "metadata": {},
   "source": [
    "### hetio DWPC implementation"
   ]
  },
  {
   "cell_type": "code",
   "execution_count": 11,
   "metadata": {},
   "outputs": [
    {
     "name": "stdout",
     "output_type": "stream",
     "text": [
      "142\n",
      "CPU times: user 58.8 ms, sys: 2.98 ms, total: 61.7 ms\n",
      "Wall time: 61.1 ms\n"
     ]
    }
   ],
   "source": [
    "%%time\n",
    "compound_id = 'Compound', compound\n",
    "disease_id = 'Disease', disease\n",
    "hetio_paths = hetnetpy.pathtools.paths_between(\n",
    "    graph, \n",
    "    source=graph.node_dict[compound_id],\n",
    "    target=graph.node_dict[disease_id],\n",
    "    metapath=metapath,\n",
    "    duplicates=False,\n",
    ")\n",
    "\n",
    "# Path count\n",
    "print(len(hetio_paths))\n",
    "\n",
    "# DWPC\n",
    "hetio_dwpc = hetnetpy.pathtools.DWPC(hetio_paths, damping_exponent=damping_exponent)"
   ]
  },
  {
   "cell_type": "code",
   "execution_count": 12,
   "metadata": {},
   "outputs": [
    {
     "data": {
      "text/plain": [
       "0.03287590886921624"
      ]
     },
     "execution_count": 12,
     "metadata": {},
     "output_type": "execute_result"
    }
   ],
   "source": [
    "hetio_dwpc"
   ]
  },
  {
   "cell_type": "markdown",
   "metadata": {
    "collapsed": true
   },
   "source": [
    "### HetMech dwpc"
   ]
  },
  {
   "cell_type": "code",
   "execution_count": 13,
   "metadata": {},
   "outputs": [],
   "source": [
    "from hetmatpy.degree_weight import dwpc"
   ]
  },
  {
   "cell_type": "code",
   "execution_count": 14,
   "metadata": {},
   "outputs": [],
   "source": [
    "def compare_dwpc(output_mat, i, j):\n",
    "    print(\"\\nCOMPARE\")\n",
    "    print(\"dwpc_matrix shape {}\".format(output_mat.shape))\n",
    "    print(\"dwpc from i to j, as computed here:     {}\".format(output_mat[i,j]))\n",
    "    print(\"dwpc from i to j, as computed by hetio: {}\".format(hetio_dwpc))\n",
    "    print(\"dwpc from i to j, as computed by cypher: {}\".format(cypher_dwpc))\n",
    "\n",
    "def compare_pc(output_mat, i, j):\n",
    "    print(\"\\nCOMPARE\")\n",
    "    print(\"pc_matrix shape {}\".format(output_mat.shape))\n",
    "    print(\"pc from i to j, as computed here:     {}\".format(output_mat[i,j]))\n",
    "    print(\"pc from i to j, as computed by hetio: {}\".format(len(hetio_paths)))\n",
    "    print(\"pc from i to j, as computed by cypher: {}\".format(cypher_pc))"
   ]
  },
  {
   "cell_type": "code",
   "execution_count": 26,
   "metadata": {
    "scrolled": true
   },
   "outputs": [
    {
     "name": "stdout",
     "output_type": "stream",
     "text": [
      "\n",
      "COMPARE\n",
      "pc_matrix shape (1552, 137)\n",
      "pc from i to j, as computed here:     142.0\n",
      "pc from i to j, as computed by hetio: 142\n",
      "pc from i to j, as computed by cypher: 142\n",
      "CPU times: user 1min 37s, sys: 13.7 s, total: 1min 51s\n",
      "Wall time: 10.9 s\n"
     ]
    }
   ],
   "source": [
    "%%time\n",
    "rows, cols, dwpc_matrix = dwpc(graph, metapath, damping=0.0)\n",
    "\n",
    "i = rows.index(compound)\n",
    "j = cols.index(disease)\n",
    "compare_pc(dwpc_matrix, i, j)\n",
    "# seconds"
   ]
  },
  {
   "cell_type": "code",
   "execution_count": 21,
   "metadata": {},
   "outputs": [
    {
     "data": {
      "text/plain": [
       "3"
      ]
     },
     "execution_count": 21,
     "metadata": {},
     "output_type": "execute_result"
    }
   ],
   "source": [
    "len(dwpc_res)"
   ]
  },
  {
   "cell_type": "code",
   "execution_count": 11,
   "metadata": {},
   "outputs": [
    {
     "name": "stdout",
     "output_type": "stream",
     "text": [
      "\n",
      "COMPARE\n",
      "dwpc_matrix shape (1552, 137)\n",
      "dwpc from i to j, as computed here:     0.03287590886921622\n",
      "dwpc from i to j, as computed by hetio: 0.03287590886921626\n",
      "dwpc from i to j, as computed by cypher: 0.03287590886921623\n"
     ]
    },
    {
     "data": {
      "text/plain": [
       "34.095333027653396"
      ]
     },
     "execution_count": 11,
     "metadata": {},
     "output_type": "execute_result"
    }
   ],
   "source": [
    "rows, cols, dwpc_matrix, seconds = dwpc(graph, metapath, damping=damping_exponent)    \n",
    "compare_dwpc(dwpc_matrix, i ,j)\n",
    "seconds"
   ]
  },
  {
   "cell_type": "code",
   "execution_count": 12,
   "metadata": {},
   "outputs": [
    {
     "name": "stdout",
     "output_type": "stream",
     "text": [
      "Compare time for all-pairs computations via hetio, vs via matrix method\n",
      "Matrix method total time: 6.99s  for  all 212624 pairs dwpc\n",
      "hetio method total time (estimated):  39548s for  all 212624 pairs dwpc\n"
     ]
    }
   ],
   "source": [
    "print(\"Compare time for all-pairs computations via hetio, vs via matrix method\")\n",
    "print(\"Matrix method total time: {}s  for  all {} pairs dwpc\".format((3.43+3.56), 1552*137))\n",
    "print(\"hetio method total time (estimated): {:6.0f}s for  all {} pairs dwpc\".format( .186*1552*137, 1552*137 ))"
   ]
  }
 ],
 "metadata": {
  "kernelspec": {
   "display_name": "hetmech",
   "language": "python",
   "name": "python3"
  },
  "language_info": {
   "codemirror_mode": {
    "name": "ipython",
    "version": 3
   },
   "file_extension": ".py",
   "mimetype": "text/x-python",
   "name": "python",
   "nbconvert_exporter": "python",
   "pygments_lexer": "ipython3",
   "version": "3.8.6"
  }
 },
 "nbformat": 4,
 "nbformat_minor": 2
}
